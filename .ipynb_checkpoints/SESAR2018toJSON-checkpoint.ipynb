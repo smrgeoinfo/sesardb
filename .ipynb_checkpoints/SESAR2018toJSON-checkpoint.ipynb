{
 "cells": [
  {
   "cell_type": "markdown",
   "id": "a32b003e-3b50-4fc4-b1a0-f664dbf3cbb3",
   "metadata": {},
   "source": [
    "# SESAR db to JSON dump"
   ]
  },
  {
   "cell_type": "code",
   "execution_count": null,
   "id": "cd736cae-d06f-4510-b6ea-1a2cc2a15903",
   "metadata": {
    "editable": true,
    "slideshow": {
     "slide_type": ""
    },
    "tags": []
   },
   "outputs": [],
   "source": [
    "import psycopg2\n",
    "import requests\n",
    "import json"
   ]
  },
  {
   "cell_type": "code",
   "execution_count": null,
   "id": "b65932c4-1387-467a-9f0a-bdde7b022995",
   "metadata": {},
   "outputs": [],
   "source": [
    "def get_connection():\n",
    "    try:\n",
    "        return psycopg2.connect(\n",
    "            database=\"sesardb20240525\",\n",
    "            user=\"postgres\",\n",
    "            password=\"smrpostgis\",\n",
    "            host=\"127.0.0.1\",\n",
    "            port=5432,\n",
    "        )\n",
    "    except:\n",
    "        return False\n"
   ]
  },
  {
   "cell_type": "code",
   "execution_count": null,
   "id": "bcff3aaf-36bb-47d2-bb78-7b2cde04fa23",
   "metadata": {},
   "outputs": [],
   "source": [
    "def executeQuery(conn, querystring):\n",
    "# CREATE A CURSOR USING THE CONNECTION OBJECT\n",
    "    curr = conn.cursor()\n",
    "    # EXECUTE THE SQL QUERY\n",
    "    curr.execute(querystring)\n",
    "    # FETCH ALL THE ROWS FROM THE CURSOR\n",
    "    data = curr.fetchall()\n",
    "    return data"
   ]
  },
  {
   "cell_type": "code",
   "execution_count": null,
   "id": "cd9ad771-508d-41aa-90e0-c8eee8c56132",
   "metadata": {},
   "outputs": [],
   "source": [
    "def getFields(tableName):\n",
    "#  get field names for table\n",
    "    fieldsquery=\"SELECT column_name,ordinal_position \"\\\n",
    "     \"FROM information_schema.columns \" + \\\n",
    "     \"WHERE table_schema = 'public' AND table_name = '\" + \\\n",
    "        tableName + \"' ORDER BY ordinal_position\"\n",
    "    print(fieldsquery)\n",
    "    fields = executeQuery(conn, fieldsquery)\n",
    "\n",
    "    fieldlist=[]\n",
    "    for row in fields:\n",
    "        fieldlist.append(row[0])\n",
    "    return fieldlist"
   ]
  },
  {
   "cell_type": "code",
   "execution_count": null,
   "id": "ff4ee020-cb39-48dc-9b31-06c12b1a41b2",
   "metadata": {},
   "outputs": [],
   "source": [
    "def getTableData(tableName, tablePK):\n",
    "    fl=getFields(tableName)\n",
    "    #print(tableName, \" fields \", fl)\n",
    "    selectRecordQuery = \"SELECT * FROM public.\" + tableName \n",
    "    #print(\"record query: \", selectRecordQuery)\n",
    "\n",
    "    data = executeQuery(conn, selectRecordQuery)\n",
    "    # do something with THE RECORDS \n",
    "    print (tableName, \" number of records: \", len(data))\n",
    "\n",
    "    theDict={}\n",
    "    rows=[]\n",
    "    rowNum = 0\n",
    "    for row in data:\n",
    "        theobj={}\n",
    "        arecord={}\n",
    "        for nc in range(len(row)):\n",
    "            if row[nc] is None:\n",
    "                # don't put null values in JSON\n",
    "                continue\n",
    "            theobj[fl[nc]]=row[nc]\n",
    "        if tablePK=='noPK':\n",
    "            arecord[rowNum]=theobj\n",
    "        else:\n",
    "            arecord[theobj[tablePK]]=theobj\n",
    "        #print(arecord)\n",
    "        rows.append(arecord)\n",
    "        rowNum = rowNum+1\n",
    "    \n",
    "    #print(rows)\n",
    "    theDict[tableName] = rows\n",
    "    return theDict"
   ]
  },
  {
   "cell_type": "code",
   "execution_count": null,
   "id": "efe20111-c78d-40c3-9e72-e57e37b0635a",
   "metadata": {},
   "outputs": [],
   "source": [
    "def getPrimaryKey(tableName):\n",
    "    pkquery = \"SELECT c.column_name \" + \\\n",
    "        \" FROM information_schema.key_column_usage AS c \" + \\\n",
    "        \" LEFT JOIN information_schema.table_constraints AS t \" + \\\n",
    "        \" ON t.constraint_name = c.constraint_name \" + \\\n",
    "        \" WHERE t.table_name = '\" + tableName + \"' AND t.constraint_type = 'PRIMARY KEY'; \" \n",
    "    #print(pkquery)\n",
    "    key = executeQuery(conn, pkquery)\n",
    "    print(\"the primary key: \", key)\n",
    "    if len(key) == 0:\n",
    "        return \"noPK\"\n",
    "    else:\n",
    "        return key[0][0]"
   ]
  },
  {
   "cell_type": "code",
   "execution_count": null,
   "id": "f8e61580-59fa-4f21-80df-8be505f1ee48",
   "metadata": {},
   "outputs": [],
   "source": [
    "# database connection is global variable.\n",
    "conn = get_connection()\n",
    "if conn:\n",
    "    print(\"Connection to the PostgreSQL established successfully.\")\n",
    "else:\n",
    "    print(\"Connection to the PostgreSQL encountered and error.\")"
   ]
  },
  {
   "cell_type": "markdown",
   "id": "a674489b-57f3-46cd-b09c-71f66645000e",
   "metadata": {},
   "source": [
    "# set up to process a table"
   ]
  },
  {
   "cell_type": "markdown",
   "id": "c48d8cf3-7c60-4f8e-ae89-e0a4f53f23f0",
   "metadata": {},
   "source": [
    "data = executeQuery(conn, selClassification)\n",
    "    # do something with THE RECORDS \n",
    "print (len(data))\n",
    "\n",
    "theDict={}\n",
    "rows=[]\n",
    "for row in data:\n",
    "    theobj={}\n",
    "    arecord={}\n",
    "    for nc in range(len(row)):\n",
    "        theobj[fl[nc]]=row[nc]\n",
    "    arecord[theobj[tablePK]]=theobj\n",
    "    #print(arecord)\n",
    "    rows.append(arecord)\n",
    "\n",
    "#print(rows)\n",
    "theDict[tableName] = rows\n",
    "#print(theDict)\n",
    "\n"
   ]
  },
  {
   "cell_type": "code",
   "execution_count": null,
   "id": "33f49154-65cd-4157-8d70-abf389aa7955",
   "metadata": {},
   "outputs": [],
   "source": [
    "# list of tables in database SELECT * FROM information_schema.tables WHERE table_schema = 'public' and table_type = 'BASE TABLE'\n",
    "#  get field names for table\n",
    "tablesquery=\"SELECT table_name \" + \\\n",
    " \"FROM information_schema.tables \" + \\\n",
    " \"WHERE table_schema = 'public' AND table_type = 'BASE TABLE'\" \n",
    "print(tablesquery)\n",
    "tables = executeQuery(conn, tablesquery)\n",
    "\n",
    "tablelist=[]\n",
    "for row in tables:\n",
    "    tablelist.append(row[0])\n",
    "print(tablelist)\n"
   ]
  },
  {
   "cell_type": "code",
   "execution_count": null,
   "id": "75516c65-1373-416b-af30-e8263a74d75a",
   "metadata": {},
   "outputs": [],
   "source": [
    "for tableName in tablelist:\n",
    "    print(\"table: \", tableName)\n",
    "    \n",
    "    theKey=getPrimaryKey(tableName)  \n",
    "    thisTable = getTableData(tableName, theKey)\n",
    "    \n",
    "    fileName='SESAR_JSON/'+tableName + '.json'\n",
    "    with open(fileName, 'w') as outfile:\n",
    "        json.dump(thisTable, outfile,indent=2, default=str)\n",
    "    outfile.close()"
   ]
  },
  {
   "cell_type": "code",
   "execution_count": null,
   "id": "47f7d422-e48c-4ec9-85d2-1a41ac93ef30",
   "metadata": {},
   "outputs": [],
   "source": [
    "    # CLOSE THE CONNECTION\n",
    "conn.close()"
   ]
  }
 ],
 "metadata": {
  "kernelspec": {
   "display_name": "Python 3 (ipykernel)",
   "language": "python",
   "name": "python3"
  },
  "language_info": {
   "codemirror_mode": {
    "name": "ipython",
    "version": 3
   },
   "file_extension": ".py",
   "mimetype": "text/x-python",
   "name": "python",
   "nbconvert_exporter": "python",
   "pygments_lexer": "ipython3",
   "version": "3.11.4"
  }
 },
 "nbformat": 4,
 "nbformat_minor": 5
}
